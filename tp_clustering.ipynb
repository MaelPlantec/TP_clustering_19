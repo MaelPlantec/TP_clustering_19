{
 "cells": [
  {
   "cell_type": "markdown",
   "metadata": {},
   "source": [
    "# TP Apprentissage non-supervisé\n",
    "## Clustering\n",
    "## Laure FEUILLET - Maël PLANTEC"
   ]
  },
  {
   "cell_type": "markdown",
   "metadata": {},
   "source": [
    "## I - Jeux de données"
   ]
  },
  {
   "cell_type": "code",
   "execution_count": null,
   "metadata": {},
   "outputs": [],
   "source": [
    "from scipy.io import arff\n",
    "import numpy as np\n",
    "import matplotlib.pyplot as plt"
   ]
  },
  {
   "cell_type": "code",
   "execution_count": null,
   "metadata": {},
   "outputs": [],
   "source": [
    "smile_data = arff.loadarff(open('smile1.arff', 'rt'))\n",
    "smile = np.array(smile_data)[0]"
   ]
  },
  {
   "cell_type": "code",
   "execution_count": null,
   "metadata": {},
   "outputs": [],
   "source": [
    "plt.scatter(smile['a0'], smile['a1'], c=smile['class'], marker='x')\n",
    "plt.show()"
   ]
  },
  {
   "cell_type": "code",
   "execution_count": null,
   "metadata": {},
   "outputs": [],
   "source": [
    "square_data = arff.loadarff(open('square5.arff', 'rt'))\n",
    "square = np.array(square_data)[0]"
   ]
  },
  {
   "cell_type": "code",
   "execution_count": null,
   "metadata": {},
   "outputs": [],
   "source": [
    "plt.scatter(square['a0'], square['a1'], c=square['class'], marker='x')\n",
    "plt.show()"
   ]
  },
  {
   "cell_type": "code",
   "execution_count": null,
   "metadata": {},
   "outputs": [],
   "source": [
    "plt.scatter(square['a0'], square['a1'], marker='x')\n",
    "plt.show()"
   ]
  },
  {
   "cell_type": "code",
   "execution_count": null,
   "metadata": {},
   "outputs": [],
   "source": []
  },
  {
   "cell_type": "markdown",
   "metadata": {},
   "source": [
    "## II - Clustering k-Means\n",
    "Le dataset `smile` possède des composantes connexes bien identifiées, avec des densités variables : les yeux sont plus denses que la bouche par exemple. "
   ]
  },
  {
   "cell_type": "code",
   "execution_count": null,
   "metadata": {},
   "outputs": [],
   "source": [
    "from sklearn import cluster\n",
    "from sklearn import metrics"
   ]
  },
  {
   "cell_type": "code",
   "execution_count": null,
   "metadata": {},
   "outputs": [],
   "source": [
    "square_train = list(zip(square['a0'], square['a1']))"
   ]
  },
  {
   "cell_type": "code",
   "execution_count": null,
   "metadata": {},
   "outputs": [],
   "source": [
    "kmeans_square  = cluster.KMeans(n_clusters=len(np.unique(square['class'])), init='k-means++')\n",
    "kmeans_square.fit(square_train)"
   ]
  },
  {
   "cell_type": "code",
   "execution_count": null,
   "metadata": {},
   "outputs": [],
   "source": [
    "metrics.davies_bouldin_score(square_train, kmeans_square.labels_)"
   ]
  },
  {
   "cell_type": "code",
   "execution_count": null,
   "metadata": {},
   "outputs": [],
   "source": [
    "plt.scatter(square['a0'], square['a1'], c=kmeans_square.labels_, marker='x')\n",
    "plt.show()"
   ]
  },
  {
   "cell_type": "code",
   "execution_count": null,
   "metadata": {
    "scrolled": true
   },
   "outputs": [],
   "source": [
    "range_clusters = range(2, 11)\n",
    "kmeans_nb_clusters = []\n",
    "for nb_clusters in range_clusters:\n",
    "    kmeans  = cluster.KMeans(n_clusters=nb_clusters, init='k-means++')\n",
    "    kmeans.fit(square_train)\n",
    "    # Indice de Davies Bouldin\n",
    "    db = metrics.davies_bouldin_score(square_train, kmeans.labels_)\n",
    "    # Coefficient de silhouette\n",
    "    silhouette = metrics.silhouette_score(square_train, kmeans.labels_)\n",
    "    kmeans_nb_clusters.append((nb_clusters, kmeans.labels_, db, silhouette))"
   ]
  },
  {
   "cell_type": "code",
   "execution_count": null,
   "metadata": {},
   "outputs": [],
   "source": [
    "plt.figure(figsize=(16, 9))\n",
    "\n",
    "i=0\n",
    "for res in kmeans_nb_clusters:\n",
    "    plt.subplot(3, 3, i+1)\n",
    "    plt.scatter(square['a0'], square['a1'], c=res[1], marker='x', cmap='tab10')\n",
    "    plt.title(f\"{res[0]} clusters\")\n",
    "    i = i + 1\n",
    "    \n",
    "plt.show()"
   ]
  },
  {
   "cell_type": "code",
   "execution_count": null,
   "metadata": {},
   "outputs": [],
   "source": [
    "kmeans_nb_clusters_zip = list(zip(*kmeans_nb_clusters))\n",
    "\n",
    "plt.figure(figsize=(16,9))\n",
    "plt.plot(kmeans_nb_clusters_zip[0], kmeans_nb_clusters_zip[2], 'o-', label='Indice de Davies Bouldin')\n",
    "plt.plot(kmeans_nb_clusters_zip[0], kmeans_nb_clusters_zip[3], 'x-', label='Coefficient de Silhouette', color='orange')\n",
    "plt.title(\"Evaluation de k-means en fonction du nombre de clusters\")\n",
    "plt.xlabel('Nombre de clusters')\n",
    "plt.ylabel('Evaluation')\n",
    "plt.legend()\n",
    "plt.show()"
   ]
  },
  {
   "cell_type": "markdown",
   "metadata": {},
   "source": [
    "On remarque que... "
   ]
  },
  {
   "cell_type": "code",
   "execution_count": null,
   "metadata": {},
   "outputs": [],
   "source": []
  },
  {
   "cell_type": "code",
   "execution_count": null,
   "metadata": {},
   "outputs": [],
   "source": [
    "kmeans_smile = cluster.KMeans(n_clusters=len(np.unique(smile['class'])), init='k-means++')"
   ]
  },
  {
   "cell_type": "code",
   "execution_count": null,
   "metadata": {},
   "outputs": [],
   "source": [
    "smile_train = list(zip(smile['a0'], smile['a1']))"
   ]
  },
  {
   "cell_type": "code",
   "execution_count": null,
   "metadata": {},
   "outputs": [],
   "source": [
    "kmeans_smile.fit(smile_train)"
   ]
  },
  {
   "cell_type": "code",
   "execution_count": null,
   "metadata": {},
   "outputs": [],
   "source": [
    "plt.scatter(smile['a0'], smile['a1'], c=kmeans_smile.labels_, marker='x')\n",
    "plt.show()"
   ]
  },
  {
   "cell_type": "code",
   "execution_count": null,
   "metadata": {},
   "outputs": [],
   "source": [
    "range_clusters = range(2, 11)\n",
    "kmeans_nb_clusters = []\n",
    "for nb_clusters in range_clusters:\n",
    "    kmeans  = cluster.KMeans(n_clusters=nb_clusters, init='k-means++')\n",
    "    kmeans.fit(smile_train)\n",
    "    # Indice de Davies Bouldin\n",
    "    db = metrics.davies_bouldin_score(smile_train, kmeans.labels_)\n",
    "    # Coefficient de silhouette\n",
    "    silhouette = metrics.silhouette_score(smile_train, kmeans.labels_)\n",
    "    kmeans_nb_clusters.append((nb_clusters, kmeans.labels_, db, silhouette))"
   ]
  },
  {
   "cell_type": "code",
   "execution_count": null,
   "metadata": {},
   "outputs": [],
   "source": [
    "plt.figure(figsize=(16, 9))\n",
    "\n",
    "i=0\n",
    "for res in kmeans_nb_clusters:\n",
    "    plt.subplot(3, 3, i+1)\n",
    "    plt.scatter(smile['a0'], smile['a1'], c=res[1], marker='x', cmap='tab10')\n",
    "    plt.title(f\"{res[0]} clusters\")\n",
    "    i = i + 1\n",
    "    \n",
    "plt.show()"
   ]
  },
  {
   "cell_type": "code",
   "execution_count": null,
   "metadata": {},
   "outputs": [],
   "source": [
    "kmeans_nb_clusters_zip = list(zip(*kmeans_nb_clusters))\n",
    "\n",
    "plt.figure(figsize=(16,9))\n",
    "plt.plot(kmeans_nb_clusters_zip[0], kmeans_nb_clusters_zip[2], 'o-', label='Indice de Davies Bouldin')\n",
    "plt.plot(kmeans_nb_clusters_zip[0], kmeans_nb_clusters_zip[3], 'x-', label='Coefficient de Silhouette', color='orange')\n",
    "plt.title(\"Evaluation de k-means en fonction du nombre de clusters\")\n",
    "plt.xlabel('Nombre de clusters')\n",
    "plt.ylabel('Evaluation')\n",
    "plt.legend()\n",
    "plt.show()"
   ]
  },
  {
   "cell_type": "markdown",
   "metadata": {},
   "source": [
    "Non, nous n'arrivons pas à retrouver le résultat précédent (4 clusters). Cela est tout à fait normal car le dataset utilisé n'est pas valable pour kmeans (non connexe)."
   ]
  },
  {
   "cell_type": "code",
   "execution_count": null,
   "metadata": {},
   "outputs": [],
   "source": []
  }
 ],
 "metadata": {
  "kernelspec": {
   "display_name": "Python 3",
   "language": "python",
   "name": "python3"
  },
  "language_info": {
   "codemirror_mode": {
    "name": "ipython",
    "version": 3
   },
   "file_extension": ".py",
   "mimetype": "text/x-python",
   "name": "python",
   "nbconvert_exporter": "python",
   "pygments_lexer": "ipython3",
   "version": "3.7.3"
  },
  "latex_envs": {
   "LaTeX_envs_menu_present": true,
   "autoclose": false,
   "autocomplete": true,
   "bibliofile": "biblio.bib",
   "cite_by": "apalike",
   "current_citInitial": 1,
   "eqLabelWithNumbers": true,
   "eqNumInitial": 1,
   "hotkeys": {
    "equation": "Ctrl-E",
    "itemize": "Ctrl-I"
   },
   "labels_anchors": false,
   "latex_user_defs": false,
   "report_style_numbering": false,
   "user_envs_cfg": false
  }
 },
 "nbformat": 4,
 "nbformat_minor": 2
}
