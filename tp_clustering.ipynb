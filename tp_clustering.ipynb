{
 "cells": [
  {
   "cell_type": "markdown",
   "metadata": {},
   "source": [
    "# TP Apprentissage non-supervisé\n",
    "## Clustering\n",
    "## Laure FEUILLET - Maël PLANTEC"
   ]
  },
  {
   "cell_type": "markdown",
   "metadata": {},
   "source": [
    "## I - Jeux de données"
   ]
  },
  {
   "cell_type": "code",
   "execution_count": null,
   "metadata": {},
   "outputs": [],
   "source": [
    "from scipy.io import arff\n",
    "import numpy as np\n",
    "import matplotlib.pyplot as plt"
   ]
  },
  {
   "cell_type": "code",
   "execution_count": null,
   "metadata": {},
   "outputs": [],
   "source": [
    "smile_data = arff.loadarff(open('smile1.arff', 'rt'))\n",
    "smile = np.array(smile_data)[0]\n",
    "plt.scatter(smile['a0'], smile['a1'], c=smile['class'], marker='x')\n",
    "plt.show()"
   ]
  },
  {
   "cell_type": "markdown",
   "metadata": {},
   "source": [
    "Le graphique ci-dessus représente les clusters désirés pour le dataset *smile*."
   ]
  },
  {
   "cell_type": "code",
   "execution_count": null,
   "metadata": {},
   "outputs": [],
   "source": [
    "d2c4_data = arff.loadarff(open('2d-4c-no4.arff', 'rt'))\n",
    "d2c4 = np.array(d2c4_data)[0]\n",
    "plt.scatter(d2c4['a0'], d2c4['a1'], c=d2c4['class'], marker='x')\n",
    "plt.show()"
   ]
  },
  {
   "cell_type": "markdown",
   "metadata": {},
   "source": [
    "Il s'agit ici du deuxième dataset que nous avons choisi d'étudier, appelé *d2c4*."
   ]
  },
  {
   "cell_type": "markdown",
   "metadata": {},
   "source": [
    "## II - Clustering k-Means\n",
    "Le dataset `smile` possède des composantes connexes bien identifiées, avec des densités variables : les yeux sont plus denses que la bouche par exemple. "
   ]
  },
  {
   "cell_type": "code",
   "execution_count": null,
   "metadata": {},
   "outputs": [],
   "source": [
    "from sklearn import cluster\n",
    "from sklearn import metrics\n",
    "import time"
   ]
  },
  {
   "cell_type": "markdown",
   "metadata": {},
   "source": [
    "### Dataset *d2c4*"
   ]
  },
  {
   "cell_type": "code",
   "execution_count": null,
   "metadata": {},
   "outputs": [],
   "source": [
    "d2c4_train = list(zip(d2c4['a0'], d2c4['a1']))\n",
    "kmeans_d2c4  = cluster.KMeans(n_clusters=len(np.unique(d2c4['class'])), init='k-means++')\n",
    "kmeans_d2c4.fit(d2c4_train)\n",
    "\n",
    "plt.figure(figsize=(16, 9))\n",
    "plt.scatter(d2c4['a0'], d2c4['a1'], c=kmeans_d2c4.labels_, marker='x')\n",
    "plt.title(\"Clustering k-Means\")\n",
    "plt.show()"
   ]
  },
  {
   "cell_type": "markdown",
   "metadata": {},
   "source": [
    "Le clustering obtenu avec k-Means pour `k=4`correspond quasiment à celui attendu. On remarque tout de même quelques points du cluster vert qui ont été attribués au cluster violet. Ce dernier est en effet plus dense et à donc tendance à attirer les points à lui. "
   ]
  },
  {
   "cell_type": "code",
   "execution_count": null,
   "metadata": {
    "scrolled": true
   },
   "outputs": [],
   "source": [
    "range_clusters = range(2, 11)\n",
    "kmeans_d2c4_nb_clusters = []\n",
    "for nb_clusters in range_clusters:\n",
    "    kmeans_d2c4  = cluster.KMeans(n_clusters=nb_clusters, init='k-means++')\n",
    "    kmeans_d2c4.fit(d2c4_train)\n",
    "    # Indice de Davies Bouldin\n",
    "    db = metrics.davies_bouldin_score(d2c4_train, kmeans_d2c4.labels_)\n",
    "    # Coefficient de Silhouette\n",
    "    silhouette = metrics.silhouette_score(d2c4_train, kmeans_d2c4.labels_)\n",
    "    kmeans_d2c4_nb_clusters.append((nb_clusters, kmeans_d2c4.labels_, db, silhouette))"
   ]
  },
  {
   "cell_type": "code",
   "execution_count": null,
   "metadata": {},
   "outputs": [],
   "source": [
    "plt.figure(figsize=(16, 9))\n",
    "i=0\n",
    "for res in kmeans_d2c4_nb_clusters:\n",
    "    subplot = plt.subplot(3, 3, i+1)\n",
    "    subplot.get_xaxis().set_visible(False)\n",
    "    subplot.get_yaxis().set_visible(False)\n",
    "    plt.scatter(d2c4['a0'], d2c4['a1'], c=res[1], marker='x', cmap='tab10')\n",
    "    plt.title(f\"{res[0]} clusters\")\n",
    "    i = i + 1\n",
    "    \n",
    "plt.show()"
   ]
  },
  {
   "cell_type": "code",
   "execution_count": null,
   "metadata": {},
   "outputs": [],
   "source": [
    "kmeans_d2c4_nb_clusters_zip = list(zip(*kmeans_d2c4_nb_clusters))\n",
    "\n",
    "plt.figure(figsize=(16,9))\n",
    "plt.plot(kmeans_d2c4_nb_clusters_zip[0], kmeans_d2c4_nb_clusters_zip[2], 'o-', label='Indice de Davies Bouldin')\n",
    "plt.plot(kmeans_d2c4_nb_clusters_zip[0], kmeans_d2c4_nb_clusters_zip[3], 'x-', label='Coefficient de Silhouette', color='orange')\n",
    "plt.title(\"Evaluation de k-Means en fonction du nombre de clusters \\n (sur le dataset d2c4)\")\n",
    "plt.xlabel('Nombre de clusters')\n",
    "plt.ylabel('Evaluation')\n",
    "plt.legend()\n",
    "plt.grid()\n",
    "plt.show()"
   ]
  },
  {
   "cell_type": "markdown",
   "metadata": {},
   "source": [
    "En prenant en compte l'indice de Davies Bouldin (à minimiser) et le coefficient de Silhouette (à maximiser), on observe que le meilleur nombre de clusters est 4 pour le dataset *d2c4*. C'est parfait ! "
   ]
  },
  {
   "cell_type": "markdown",
   "metadata": {},
   "source": [
    "### Dataset *smile*"
   ]
  },
  {
   "cell_type": "code",
   "execution_count": null,
   "metadata": {},
   "outputs": [],
   "source": [
    "smile_train = list(zip(smile['a0'], smile['a1']))\n",
    "\n",
    "range_clusters = range(2, 11)\n",
    "kmeans_smile_nb_clusters = []\n",
    "for nb_clusters in range_clusters:\n",
    "    kmeans_smile  = cluster.KMeans(n_clusters=nb_clusters, init='k-means++')\n",
    "    kmeans_smile.fit(smile_train)\n",
    "    # Indice de Davies Bouldin\n",
    "    db = metrics.davies_bouldin_score(smile_train, kmeans_smile.labels_)\n",
    "    # Coefficient de Silhouette\n",
    "    silhouette = metrics.silhouette_score(smile_train, kmeans_smile.labels_)\n",
    "    kmeans_smile_nb_clusters.append((nb_clusters, kmeans_smile.labels_, db, silhouette))"
   ]
  },
  {
   "cell_type": "code",
   "execution_count": null,
   "metadata": {},
   "outputs": [],
   "source": [
    "plt.figure(figsize=(16, 9))\n",
    "\n",
    "i=0\n",
    "for res in kmeans_smile_nb_clusters:\n",
    "    subplot = plt.subplot(3, 3, i+1)\n",
    "    subplot.get_xaxis().set_visible(False)\n",
    "    subplot.get_yaxis().set_visible(False)\n",
    "    plt.scatter(smile['a0'], smile['a1'], c=res[1], marker='x', cmap='tab10')\n",
    "    plt.title(f\"{res[0]} clusters\")\n",
    "    i = i + 1\n",
    "    \n",
    "plt.show()"
   ]
  },
  {
   "cell_type": "code",
   "execution_count": null,
   "metadata": {},
   "outputs": [],
   "source": [
    "kmeans_smile_nb_clusters_zip = list(zip(*kmeans_smile_nb_clusters))\n",
    "\n",
    "plt.figure(figsize=(16,9))\n",
    "plt.plot(kmeans_smile_nb_clusters_zip[0], kmeans_smile_nb_clusters_zip[2], 'o-', label='Indice de Davies Bouldin')\n",
    "plt.plot(kmeans_smile_nb_clusters_zip[0], kmeans_smile_nb_clusters_zip[3], 'x-', label='Coefficient de Silhouette', color='orange')\n",
    "plt.title(\"Evaluation de k-Means en fonction du nombre de clusters \\n (sur le dataset smile)\")\n",
    "plt.xlabel('Nombre de clusters')\n",
    "plt.ylabel('Evaluation')\n",
    "plt.legend()\n",
    "plt.grid()\n",
    "plt.show()"
   ]
  },
  {
   "cell_type": "markdown",
   "metadata": {},
   "source": [
    "Cette fois-ci sur le dataset *smile*, on ne remarque pas de nombre de clusters particulièrement meilleur que les autres. Effectivement en regardant chaque clustering, la méthode ne parvient pas à distinguer les formes non convexes, ce qui expliue certainement cette imprécision. "
   ]
  },
  {
   "cell_type": "markdown",
   "metadata": {},
   "source": [
    "## III - Clustering agglomératif"
   ]
  },
  {
   "cell_type": "code",
   "execution_count": null,
   "metadata": {},
   "outputs": [],
   "source": [
    "from sklearn import cluster\n",
    "from sklearn import metrics\n",
    "import time"
   ]
  },
  {
   "cell_type": "markdown",
   "metadata": {},
   "source": [
    "### Dataset *d2c4*"
   ]
  },
  {
   "cell_type": "code",
   "execution_count": null,
   "metadata": {},
   "outputs": [],
   "source": [
    "d2c4_train = list(zip(d2c4['a0'], d2c4['a1']))\n",
    "agglo_d2c4  = cluster.AgglomerativeClustering(n_clusters=len(np.unique(d2c4['class'])))\n",
    "agglo_d2c4.fit(d2c4_train)\n",
    "\n",
    "plt.figure(figsize=(16, 9))\n",
    "plt.scatter(d2c4['a0'], d2c4['a1'], c=agglo_d2c4.labels_, marker='x')\n",
    "plt.title(\"Clustering agglomératif\")\n",
    "plt.show()"
   ]
  },
  {
   "cell_type": "markdown",
   "metadata": {},
   "source": [
    "#### `linkage`"
   ]
  },
  {
   "cell_type": "code",
   "execution_count": null,
   "metadata": {},
   "outputs": [],
   "source": [
    "range_linkage = ['single', 'complete', 'average', 'ward']\n",
    "agglo_linkage = []\n",
    "for linkage in range_linkage:\n",
    "    agglo  = cluster.AgglomerativeClustering(n_clusters=4, linkage=linkage)\n",
    "    debut = time.time()\n",
    "    agglo.fit(d2c4_train)\n",
    "    duree = time.time() - debut\n",
    "    # Indice de Davies Bouldin\n",
    "    db = metrics.davies_bouldin_score(d2c4_train, agglo.labels_)\n",
    "    # Coefficient de Silhouette\n",
    "    silhouette = metrics.silhouette_score(d2c4_train, agglo.labels_)\n",
    "    agglo_linkage.append((linkage, agglo.labels_, db, silhouette, duree))"
   ]
  },
  {
   "cell_type": "code",
   "execution_count": null,
   "metadata": {},
   "outputs": [],
   "source": [
    "plt.figure(figsize=(16, 9))\n",
    "\n",
    "i=0\n",
    "for res in agglo_linkage:\n",
    "    subplot = plt.subplot(2, 2, i+1)\n",
    "    subplot.get_xaxis().set_visible(False)\n",
    "    subplot.get_yaxis().set_visible(False)\n",
    "    plt.scatter(d2c4['a0'], d2c4['a1'], c=res[1], marker='x', cmap='tab10')\n",
    "    plt.title(f\"linkage \\\"{res[0]}\\\"\")\n",
    "    i = i + 1\n",
    "    \n",
    "plt.show()"
   ]
  },
  {
   "cell_type": "code",
   "execution_count": null,
   "metadata": {},
   "outputs": [],
   "source": [
    "agglo_linkage_zip = list(zip(*agglo_linkage))\n",
    "\n",
    "plt.figure(figsize=(16,9))\n",
    "plt.subplot(2, 1, 1)\n",
    "plt.plot(agglo_linkage_zip[0], agglo_linkage_zip[2], 'o-', label='Indice de Davies Bouldin')\n",
    "plt.plot(agglo_linkage_zip[0], agglo_linkage_zip[3], 'x-', label='Coefficient de Silhouette', color='orange')\n",
    "plt.title(\"Evaluation du clustering agglomératif en fonction du linkage \\n (sur le dataset d2c4)\")\n",
    "plt.ylabel('Evaluation')\n",
    "plt.legend()\n",
    "plt.grid()\n",
    "\n",
    "plt.subplot(2, 1, 2)\n",
    "plt.plot(agglo_linkage_zip[0], agglo_linkage_zip[4], 'x-', c='green')\n",
    "plt.title(\"Durée du clustering agglomératif en fonction du linkage \\n (sur le dataset d2c4)\")\n",
    "plt.xlabel('linkage')\n",
    "plt.ylabel('Durée')\n",
    "plt.grid()\n",
    "\n",
    "plt.show()"
   ]
  },
  {
   "cell_type": "markdown",
   "metadata": {},
   "source": []
  },
  {
   "cell_type": "markdown",
   "metadata": {},
   "source": [
    "#### Nombre de clusters"
   ]
  },
  {
   "cell_type": "code",
   "execution_count": null,
   "metadata": {},
   "outputs": [],
   "source": [
    "range_nb_clusters = range(2, 11)\n",
    "agglo_nb_clusters = []\n",
    "for nb_clusters in range_nb_clusters:\n",
    "    agglo  = cluster.AgglomerativeClustering(n_clusters=nb_clusters, linkage='ward')\n",
    "    debut = time.time()\n",
    "    agglo.fit(d2c4_train)\n",
    "    duree = time.time() - debut\n",
    "    # Indice de Davies Bouldin\n",
    "    db = metrics.davies_bouldin_score(d2c4_train, agglo.labels_)\n",
    "    # Coefficient de Silhouette\n",
    "    silhouette = metrics.silhouette_score(d2c4_train, agglo.labels_)\n",
    "    agglo_nb_clusters.append((nb_clusters, agglo.labels_, db, silhouette, duree))"
   ]
  },
  {
   "cell_type": "code",
   "execution_count": null,
   "metadata": {},
   "outputs": [],
   "source": [
    "plt.figure(figsize=(16, 9))\n",
    "\n",
    "i=0\n",
    "for res in agglo_nb_clusters:\n",
    "    subplot = plt.subplot(3, 3, i+1)\n",
    "    subplot.get_xaxis().set_visible(False)\n",
    "    subplot.get_yaxis().set_visible(False)\n",
    "    plt.scatter(d2c4['a0'], d2c4['a1'], c=res[1], marker='x', cmap='tab10')\n",
    "    plt.title(f\"{res[0]} clusters\")\n",
    "    i = i + 1\n",
    "    \n",
    "plt.show()"
   ]
  },
  {
   "cell_type": "code",
   "execution_count": null,
   "metadata": {},
   "outputs": [],
   "source": [
    "agglo_nb_clusters_zip = list(zip(*agglo_nb_clusters))\n",
    "\n",
    "plt.figure(figsize=(16,9))\n",
    "plt.subplot(2, 1, 1)\n",
    "plt.plot(agglo_nb_clusters_zip[0], agglo_nb_clusters_zip[2], 'o-', label='Indice de Davies Bouldin')\n",
    "plt.plot(agglo_nb_clusters_zip[0], agglo_nb_clusters_zip[3], 'x-', label='Coefficient de Silhouette', color='orange')\n",
    "plt.title(\"Evaluation du clustering agglomératif en fonction du nombre de clusters \\n (sur le dataset d2c4)\")\n",
    "plt.ylabel('Evaluation')\n",
    "plt.legend()\n",
    "plt.grid()\n",
    "\n",
    "plt.subplot(2, 1, 2)\n",
    "plt.plot(agglo_nb_clusters_zip[0], agglo_nb_clusters_zip[4], 'x-', c='green')\n",
    "plt.title(\"Durée du clustering agglomératif en fonction du nombre de clusters \\n (sur le dataset d2c4)\")\n",
    "plt.xlabel('Nombre de clusters')\n",
    "plt.ylabel('Durée')\n",
    "plt.grid()\n",
    "\n",
    "plt.show()"
   ]
  },
  {
   "cell_type": "markdown",
   "metadata": {},
   "source": []
  },
  {
   "cell_type": "markdown",
   "metadata": {},
   "source": [
    "### Dataset *smile*"
   ]
  },
  {
   "cell_type": "code",
   "execution_count": null,
   "metadata": {},
   "outputs": [],
   "source": [
    "smile_train = list(zip(smile['a0'], smile['a1']))"
   ]
  },
  {
   "cell_type": "markdown",
   "metadata": {},
   "source": [
    "#### `linkage`"
   ]
  },
  {
   "cell_type": "code",
   "execution_count": null,
   "metadata": {},
   "outputs": [],
   "source": [
    "range_linkage = ['single', 'complete', 'average', 'ward']\n",
    "agglo_smile_linkage = []\n",
    "for linkage in range_linkage:\n",
    "    debut = time.time()\n",
    "    agglo  = cluster.AgglomerativeClustering(n_clusters=4, linkage=linkage)\n",
    "    duree = time.time() - debut\n",
    "    agglo.fit(smile_train)\n",
    "    # Indice de Davies Bouldin\n",
    "    db = metrics.davies_bouldin_score(smile_train, agglo.labels_)\n",
    "    # Coefficient de Silhouette\n",
    "    silhouette = metrics.silhouette_score(smile_train, agglo.labels_)\n",
    "    agglo_smile_linkage.append((linkage, agglo.labels_, db, silhouette, duree))"
   ]
  },
  {
   "cell_type": "code",
   "execution_count": null,
   "metadata": {},
   "outputs": [],
   "source": [
    "plt.figure(figsize=(16, 9))\n",
    "\n",
    "i=0\n",
    "for res in agglo_smile_linkage:\n",
    "    subplot = plt.subplot(2, 2, i+1)\n",
    "    subplot.get_xaxis().set_visible(False)\n",
    "    subplot.get_yaxis().set_visible(False)\n",
    "    plt.scatter(smile['a0'], smile['a1'], c=res[1], marker='x', cmap='tab10')\n",
    "    plt.title(f\"linkage \\\"{res[0]}\\\"\")\n",
    "    i = i + 1\n",
    "    \n",
    "plt.show()"
   ]
  },
  {
   "cell_type": "code",
   "execution_count": null,
   "metadata": {},
   "outputs": [],
   "source": [
    "agglo_smile_linkage_zip = list(zip(*agglo_smile_linkage))\n",
    "\n",
    "plt.figure(figsize=(16,9))\n",
    "plt.subplot(2, 1, 1)\n",
    "plt.plot(agglo_smile_linkage_zip[0], agglo_smile_linkage_zip[2], 'o-', label='Indice de Davies Bouldin')\n",
    "plt.plot(agglo_smile_linkage_zip[0], agglo_smile_linkage_zip[3], 'x-', label='Coefficient de Silhouette', color='orange')\n",
    "plt.title(\"Evaluation du clustering agglomératif en fonction du linkage \\n (sur le dataset smile)\")\n",
    "plt.ylabel('Evaluation')\n",
    "plt.legend()\n",
    "plt.grid()\n",
    "\n",
    "plt.subplot(2, 1, 2)\n",
    "plt.plot(agglo_smile_linkage_zip[0], agglo_smile_linkage_zip[4], 'x-', c='green')\n",
    "plt.title(\"Durée du clustering agglomératif en fonction du linkage \\n (sur le dataset smile)\")\n",
    "plt.xlabel('linkage')\n",
    "plt.ylabel('Durée')\n",
    "plt.grid()\n",
    "\n",
    "plt.show()"
   ]
  },
  {
   "cell_type": "markdown",
   "metadata": {},
   "source": []
  },
  {
   "cell_type": "markdown",
   "metadata": {},
   "source": [
    "#### Nombre de clusters"
   ]
  },
  {
   "cell_type": "code",
   "execution_count": null,
   "metadata": {},
   "outputs": [],
   "source": [
    "range_nb_clusters = range(2, 11)\n",
    "agglo_smile_nb_clusters = []\n",
    "for nb_clusters in range_nb_clusters:\n",
    "    agglo = cluster.AgglomerativeClustering(n_clusters=nb_clusters, linkage='single')\n",
    "    debut = time.time()\n",
    "    agglo.fit(smile_train)\n",
    "    duree = time.time() - debut\n",
    "    # Indice de Davies Bouldin\n",
    "    db = metrics.davies_bouldin_score(smile_train, agglo.labels_)\n",
    "    # Coefficient de Silhouette\n",
    "    silhouette = metrics.silhouette_score(smile_train, agglo.labels_)\n",
    "    agglo_smile_nb_clusters.append((nb_clusters, agglo.labels_, db, silhouette))"
   ]
  },
  {
   "cell_type": "code",
   "execution_count": null,
   "metadata": {},
   "outputs": [],
   "source": [
    "plt.figure(figsize=(16, 9))\n",
    "plt.suptitle(\"Clustering agglomératif en fonction du nombre de clusters\\n (sur le dataset smile)\")\n",
    "\n",
    "i=0\n",
    "for res in agglo_smile_nb_clusters:\n",
    "    subplot = plt.subplot(3, 3, i+1)\n",
    "    subplot.get_xaxis().set_visible(False)\n",
    "    subplot.get_yaxis().set_visible(False)\n",
    "    plt.scatter(smile['a0'], smile['a1'], c=res[1], marker='x', cmap='tab10')\n",
    "    plt.title(f\"{res[0]} clusters\")\n",
    "    i = i + 1\n",
    "    \n",
    "plt.show()"
   ]
  },
  {
   "cell_type": "markdown",
   "metadata": {},
   "source": [
    "A partir de 4 clusters, on ne remarque pas de changement notable dans l'allure des clusters trouvés par l'algorithme. "
   ]
  },
  {
   "cell_type": "code",
   "execution_count": null,
   "metadata": {},
   "outputs": [],
   "source": [
    "agglo_smile_nb_clusters_zip = list(zip(*agglo_smile_nb_clusters))\n",
    "\n",
    "plt.figure(figsize=(16,9))\n",
    "plt.suptitle(\"Clustering agglomératif en fonction du nombre de clusters \\n (sur le dataset smile)\")\n",
    "\n",
    "plt.subplot(2, 1, 1)\n",
    "plt.plot(agglo_smile_nb_clusters_zip[0], agglo_smile_nb_clusters_zip[2], 'o-', label='Indice de Davies Bouldin')\n",
    "plt.plot(agglo_smile_nb_clusters_zip[0], agglo_smile_nb_clusters_zip[3], 'x-', label='Coefficient de Silhouette', color='orange')\n",
    "plt.ylabel('Evaluation')\n",
    "plt.legend()\n",
    "plt.grid()\n",
    "\n",
    "plt.subplot(2, 1, 2)\n",
    "plt.plot(agglo_smile_nb_clusters_zip[0], agglo_smile_nb_clusters_zip[3], 'x-', c='green')\n",
    "plt.xlabel('Nombre de clusters')\n",
    "plt.ylabel('Durée')\n",
    "plt.grid()\n",
    "\n",
    "plt.show()"
   ]
  },
  {
   "cell_type": "markdown",
   "metadata": {},
   "source": [
    "Nous avons vu précedemment que ces deux indicateurs ne sont pas adaptés aux formes non convexes."
   ]
  },
  {
   "cell_type": "markdown",
   "metadata": {},
   "source": [
    "#### `affinity` = distance\n",
    "`affinity : string or callable, default: “euclidean”`\n",
    "\n",
    "> Metric used to compute the linkage. Can be “euclidean”, “l1”, “l2”, “manhattan”, “cosine”, or “precomputed”. If linkage is “ward”, only “euclidean” is accepted. If “precomputed”, a distance matrix (instead of a similarity matrix) is needed as input for the fit method.\n"
   ]
  },
  {
   "cell_type": "code",
   "execution_count": null,
   "metadata": {},
   "outputs": [],
   "source": [
    "range_affinity = ['euclidean', 'l1', 'l2', 'manhattan', 'cosine']\n",
    "agglo_smile_affinity = []\n",
    "for affinity in range_affinity:\n",
    "    agglo = cluster.AgglomerativeClustering(n_clusters=4, linkage='single', affinity=affinity)\n",
    "    debut = time.time()\n",
    "    agglo.fit(smile_train)\n",
    "    duree = time.time() - debut\n",
    "    # Indice de Davies Bouldin\n",
    "    db = metrics.davies_bouldin_score(smile_train, agglo.labels_)\n",
    "    # Coefficient de Silhouette\n",
    "    silhouette = metrics.silhouette_score(smile_train, agglo.labels_)\n",
    "    agglo_smile_affinity.append((affinity, agglo.labels_, db, silhouette, duree))"
   ]
  },
  {
   "cell_type": "code",
   "execution_count": null,
   "metadata": {},
   "outputs": [],
   "source": [
    "plt.figure(figsize=(16, 9))\n",
    "plt.suptitle(\"Clustering agglomératif en fonction de la distance\\n (sur le dataset smile)\")\n",
    "\n",
    "i=0\n",
    "for res in agglo_smile_affinity:\n",
    "    subplot = plt.subplot(2, 3, i+1)\n",
    "    subplot.get_xaxis().set_visible(False)\n",
    "    subplot.get_yaxis().set_visible(False)\n",
    "    plt.scatter(smile['a0'], smile['a1'], c=res[1], marker='x', cmap='tab10')\n",
    "    plt.title(f\"distance \\\"{res[0]}\\\"\")\n",
    "    i = i + 1\n",
    "    \n",
    "plt.show()"
   ]
  },
  {
   "cell_type": "markdown",
   "metadata": {},
   "source": [
    "Seule la distance `cosine` change la solution de clustering."
   ]
  },
  {
   "cell_type": "markdown",
   "metadata": {},
   "source": [
    "## IIII - Clustering DBSCAN"
   ]
  },
  {
   "cell_type": "code",
   "execution_count": null,
   "metadata": {},
   "outputs": [],
   "source": [
    "from sklearn import cluster\n",
    "from sklearn import metrics\n",
    "import time"
   ]
  },
  {
   "cell_type": "code",
   "execution_count": null,
   "metadata": {},
   "outputs": [],
   "source": [
    "d2c4_train = list(zip(d2c4['a0'], d2c4['a1']))\n",
    "\n",
    "# 'euclidean', 'l1', 'l2', 'manhattan', 'cosine'\n",
    "\n",
    "dbscan_d2c4  = cluster.DBSCAN(eps = 1.1, min_samples = 8, metric = \"cityblock\")\n",
    "dbscan_d2c4.fit(d2c4_train)\n",
    "\n",
    "plt.figure(figsize=(16, 9))\n",
    "plt.scatter(d2c4['a0'], d2c4['a1'], c=dbscan_d2c4.labels_, marker='x')\n",
    "plt.title(\"Clustering agglomératif\")\n",
    "plt.show()\n",
    "print(len(np.unique(dbscan_d2c4.labels_)))\n",
    "print(np.unique(dbscan_d2c4.labels_))"
   ]
  },
  {
   "cell_type": "code",
   "execution_count": null,
   "metadata": {
    "scrolled": true
   },
   "outputs": [],
   "source": [
    "for eps in [1.1, 2, 3]:\n",
    "    print(f\"Variations de min_samples pour eps = {eps}\")\n",
    "    range_min_samples = range(1, 16)\n",
    "    dbscan_min_samples = []\n",
    "    for min_samples in range_min_samples:\n",
    "        dbscan  = cluster.DBSCAN(eps=eps, min_samples=min_samples)\n",
    "        debut = time.time()\n",
    "        dbscan.fit(d2c4_train)\n",
    "        duree = time.time() - debut\n",
    "        # Indice de Davies Bouldin\n",
    "        db = metrics.davies_bouldin_score(d2c4_train, dbscan.labels_)\n",
    "        # Coefficient de Silhouette\n",
    "        silhouette = metrics.silhouette_score(d2c4_train, dbscan.labels_)\n",
    "        dbscan_min_samples.append((min_samples, dbscan.labels_, db, silhouette, duree))\n",
    "    plt.figure(figsize=(16, 9))\n",
    "\n",
    "    i=0\n",
    "    for res in dbscan_min_samples:\n",
    "        subplot = plt.subplot(4, 4, i+1)\n",
    "        subplot.get_xaxis().set_visible(False)\n",
    "        subplot.get_yaxis().set_visible(False)\n",
    "        \n",
    "        plt.scatter(d2c4['a0'], d2c4['a1'], c=res[1], marker='x', cmap='tab10')\n",
    "        plt.title(f\"min_samples = {res[0]} ({len(np.unique(res[1]))} clusters)\")\n",
    "        i = i + 1\n",
    "    plt.show()\n",
    "    print(\"--------------------------------------------------------------------\")"
   ]
  },
  {
   "cell_type": "code",
   "execution_count": null,
   "metadata": {
    "scrolled": false
   },
   "outputs": [],
   "source": [
    "#for eps in np.arange(0.00, 0.3, 0.05):\n",
    "for eps in [0.5, 1, 2, 5, 10]:   \n",
    "    print(f\"Variations de min_samples pour eps = {eps}\")\n",
    "    # range_min_samples = range(1, 11)\n",
    "    range_min_samples = range(1, 30, 2)\n",
    "    dbscan_min_samples = []\n",
    "    for min_samples in range_min_samples:\n",
    "        dbscan  = cluster.DBSCAN(eps=1.1, min_samples=min_samples)\n",
    "        debut = time.time()\n",
    "        dbscan.fit(smile_train)\n",
    "        duree = time.time() - debut\n",
    "        # Indice de Davies Bouldin\n",
    "        #db = metrics.davies_bouldin_score(smile_train, dbscan.labels_)\n",
    "        # Coefficient de Silhouette\n",
    "        #silhouette = metrics.silhouette_score(smile_train, dbscan.labels_)\n",
    "        #dbscan_min_samples.append((min_samples, dbscan.labels_, db, silhouette, duree))\n",
    "        dbscan_min_samples.append((min_samples, dbscan.labels_, duree))\n",
    "    plt.figure(figsize=(16, 9))\n",
    "\n",
    "    i=0\n",
    "    for res in dbscan_min_samples:\n",
    "        subplot = plt.subplot(4, 4, i+1)\n",
    "        subplot.get_xaxis().set_visible(False)\n",
    "        subplot.get_yaxis().set_visible(False)\n",
    "        plt.scatter(smile['a0'], smile['a1'], c=res[1], marker='x', cmap='tab20')\n",
    "        plt.title(f\"min_samples = {res[0]} ({len(np.unique(res[1]))} clusters)\")\n",
    "        i = i + 1\n",
    "    plt.show()\n",
    "    print(\"--------------------------------------------------------------------\")"
   ]
  },
  {
   "cell_type": "markdown",
   "metadata": {},
   "source": [
    "## IV - Clustering HDBSCAN"
   ]
  },
  {
   "cell_type": "code",
   "execution_count": null,
   "metadata": {},
   "outputs": [],
   "source": [
    "import hdbscan"
   ]
  },
  {
   "cell_type": "code",
   "execution_count": null,
   "metadata": {
    "scrolled": false
   },
   "outputs": [],
   "source": [
    "d2c4_train = list(zip(d2c4['a0'], d2c4['a1']))\n",
    "hdbscan_d2c4  = hdbscan.HDBSCAN(min_cluster_size=5, gen_min_span_tree=True)\n",
    "hdbscan_d2c4.fit(d2c4_train)\n",
    "\n",
    "plt.figure(figsize=(16, 9))\n",
    "plt.scatter(d2c4['a0'], d2c4['a1'], c=hdbscan_d2c4.labels_, marker='x', cmap='tab20')\n",
    "plt.title(f\"Clustering agglomératif ({len(np.unique(hdbscan_d2c4.labels_))} clusters)\")\n",
    "plt.show()"
   ]
  },
  {
   "cell_type": "code",
   "execution_count": null,
   "metadata": {},
   "outputs": [],
   "source": [
    "plt.figure(figsize=(16, 9))\n",
    "hdbscan_d2c4.minimum_spanning_tree_.plot()\n",
    "plt.show()"
   ]
  },
  {
   "cell_type": "code",
   "execution_count": null,
   "metadata": {},
   "outputs": [],
   "source": [
    "plt.figure(figsize=(16, 9))\n",
    "hdbscan_d2c4.condensed_tree_.plot(select_clusters=True, colorbar=True)\n",
    "plt.show()"
   ]
  },
  {
   "cell_type": "code",
   "execution_count": null,
   "metadata": {},
   "outputs": [],
   "source": [
    "d2c4_train = list(zip(d2c4['a0'], d2c4['a1']))\n",
    "hdbscan_d2c4  = hdbscan.HDBSCAN(min_cluster_size=5, cluster_selection_epsilon=1, gen_min_span_tree=True)\n",
    "hdbscan_d2c4.fit(d2c4_train)\n",
    "\n",
    "plt.figure(figsize=(16, 9))\n",
    "plt.scatter(d2c4['a0'], d2c4['a1'], c=hdbscan_d2c4.labels_, marker='x', cmap='tab20')\n",
    "plt.title(f\"Clustering agglomératif ({len(np.unique(hdbscan_d2c4.labels_))} clusters)\")\n",
    "plt.show()"
   ]
  }
 ],
 "metadata": {
  "kernelspec": {
   "display_name": "Python 3",
   "language": "python",
   "name": "python3"
  },
  "language_info": {
   "codemirror_mode": {
    "name": "ipython",
    "version": 3
   },
   "file_extension": ".py",
   "mimetype": "text/x-python",
   "name": "python",
   "nbconvert_exporter": "python",
   "pygments_lexer": "ipython3",
   "version": "3.7.0"
  },
  "latex_envs": {
   "LaTeX_envs_menu_present": true,
   "autoclose": false,
   "autocomplete": true,
   "bibliofile": "biblio.bib",
   "cite_by": "apalike",
   "current_citInitial": 1,
   "eqLabelWithNumbers": true,
   "eqNumInitial": 1,
   "hotkeys": {
    "equation": "Ctrl-E",
    "itemize": "Ctrl-I"
   },
   "labels_anchors": false,
   "latex_user_defs": false,
   "report_style_numbering": false,
   "user_envs_cfg": false
  }
 },
 "nbformat": 4,
 "nbformat_minor": 2
}
